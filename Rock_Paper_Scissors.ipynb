{
 "cells": [
  {
   "cell_type": "raw",
   "id": "c468bc2e",
   "metadata": {},
   "source": [
    "from random import randint"
   ]
  },
  {
   "cell_type": "code",
   "execution_count": 6,
   "id": "57fa2077",
   "metadata": {},
   "outputs": [
    {
     "name": "stdout",
     "output_type": "stream",
     "text": [
      "rock, paper, scissors?rock\n",
      "You lose! The paper covers the rock\n",
      "rock, paper, scissors?paper\n",
      "Tie!\n",
      "rock, paper, scissors?scissors\n",
      "Tie!\n",
      "rock, paper, scissors?rock\n",
      "You win! The rock smashes the scissors\n",
      "rock, paper, scissors?paper\n",
      "You win! The paper covers the rock\n",
      "rock, paper, scissors?rock\n",
      "You win! The rock smashes the scissors\n",
      "rock, paper, scissors?scissors\n",
      "Tie!\n",
      "rock, paper, scissors?scissors\n",
      "You win! The scissors cuts the paper into pieces\n",
      "rock, paper, scissors?scissor\n",
      "Sorry! You gave a wrong entry. Check your spelling.\n",
      "rock, paper, scissors?scissors\n",
      "You win! The scissors cuts the paper into pieces\n",
      "rock, paper, scissors?rock\n",
      "You lose! The paper covers the rock\n",
      "rock, paper, scissors?paper\n",
      "You win! The paper covers the rock\n",
      "rock, paper, scissors?Exit\n"
     ]
    }
   ],
   "source": [
    "from random import randint\n",
    "play=[\"rock\",\"paper\",\"scissors\",\"Exit\"]  #playing options\n",
    "\n",
    "comp=play[randint(0,2)]  #computer generating options for playing\n",
    "\n",
    "player=False\n",
    "\n",
    "while player==False:\n",
    "    player=input(\"rock, paper, scissors?\")\n",
    "    if player==\"Exit\":\n",
    "        break\n",
    "    if player==comp:\n",
    "        print(\"Tie!\")\n",
    "    elif player==\"rock\":\n",
    "        if comp==\"paper\":\n",
    "            print(\"You lose! The\", comp,\"covers the\",player)\n",
    "        else:\n",
    "            print(\"You win! The\",player,\"smashes the\",comp)\n",
    "    elif player==\"paper\":\n",
    "        if comp==\"rock\":\n",
    "            print(\"You win! The\",player,\"covers the\",comp)\n",
    "        else:\n",
    "            print(\"You lose! The\",comp,\"cuts the\",player,\"into pieces\")\n",
    "    elif player==\"scissors\":\n",
    "        if comp==\"paper\":\n",
    "            print(\"You win! The\",player,\"cuts the\", comp,\"into pieces\")\n",
    "        else:\n",
    "            print(\"You lose! The\",comp,\"smashes the\",player)\n",
    "    else:\n",
    "        print(\"Sorry! You gave a wrong entry. Check your spelling.\")\n",
    "    player=False\n",
    "    comp=play[randint(0,2)]\n",
    "            \n",
    "            \n"
   ]
  }
 ],
 "metadata": {
  "kernelspec": {
   "display_name": "Python 3 (ipykernel)",
   "language": "python",
   "name": "python3"
  },
  "language_info": {
   "codemirror_mode": {
    "name": "ipython",
    "version": 3
   },
   "file_extension": ".py",
   "mimetype": "text/x-python",
   "name": "python",
   "nbconvert_exporter": "python",
   "pygments_lexer": "ipython3",
   "version": "3.9.7"
  }
 },
 "nbformat": 4,
 "nbformat_minor": 5
}
